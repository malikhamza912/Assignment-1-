{
 "cells": [
  {
   "cell_type": "code",
   "execution_count": 1,
   "id": "8b0425a3",
   "metadata": {},
   "outputs": [
    {
     "name": "stdout",
     "output_type": "stream",
     "text": [
      "Hello Malik Hamza Nawaz\n"
     ]
    }
   ],
   "source": [
    "print(\"Hello Malik Hamza Nawaz\");"
   ]
  },
  {
   "cell_type": "code",
   "execution_count": null,
   "id": "45c4142a",
   "metadata": {},
   "outputs": [],
   "source": []
  }
 ],
 "metadata": {
  "kernelspec": {
   "display_name": "Python 3",
   "language": "python",
   "name": "python3"
  },
  "language_info": {
   "codemirror_mode": {
    "name": "ipython",
    "version": 3
   },
   "file_extension": ".py",
   "mimetype": "text/x-python",
   "name": "python",
   "nbconvert_exporter": "python",
   "pygments_lexer": "ipython3",
   "version": "3.8.8"
  }
 },
 "nbformat": 4,
 "nbformat_minor": 5
}
