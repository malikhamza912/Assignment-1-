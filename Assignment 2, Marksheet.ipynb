{
 "cells": [
  {
   "cell_type": "code",
   "execution_count": 7,
   "id": "f0022972",
   "metadata": {},
   "outputs": [
    {
     "name": "stdout",
     "output_type": "stream",
     "text": [
      "Name: Hamza Nawaz\n",
      "Roll No: JP11502\n"
     ]
    }
   ],
   "source": [
    "print(\"Name: Hamza Nawaz\");\n",
    "print(\"Roll No: JP11502\");"
   ]
  },
  {
   "cell_type": "code",
   "execution_count": 6,
   "id": "5351c6d6",
   "metadata": {},
   "outputs": [
    {
     "name": "stdout",
     "output_type": "stream",
     "text": [
      "Grade A\n"
     ]
    }
   ],
   "source": [
    "marksofmaths = 79;\n",
    "marksofenglish = 65;\n",
    "marksofislamiat = 83;\n",
    "totalmarks = 300;\n",
    "obtainedmarks = 227;\n",
    "percent = 75.6666666667\n",
    "if percent < 100 and percent > 80:\n",
    "    print(\"Grade A+\");\n",
    "elif percent < 80 and percent > 70:\n",
    "    print(\"Grade A\");\n",
    "elif percent < 70 and percent > 60:\n",
    "    print(\"Grade B\");\n",
    "elif percent < 60 and percent > 50:\n",
    "    print(\"Grade C\");\n",
    "elif percent < 50 and percent > 40:\n",
    "    print(\"Grade D\");\n",
    "elif percent < 40 and percent > 33:\n",
    "    print(\"Grade E\");\n",
    "else:\n",
    "    print(\"Fail\");"
   ]
  },
  {
   "cell_type": "code",
   "execution_count": null,
   "id": "384cbffb",
   "metadata": {},
   "outputs": [],
   "source": []
  }
 ],
 "metadata": {
  "kernelspec": {
   "display_name": "Python 3",
   "language": "python",
   "name": "python3"
  },
  "language_info": {
   "codemirror_mode": {
    "name": "ipython",
    "version": 3
   },
   "file_extension": ".py",
   "mimetype": "text/x-python",
   "name": "python",
   "nbconvert_exporter": "python",
   "pygments_lexer": "ipython3",
   "version": "3.8.8"
  }
 },
 "nbformat": 4,
 "nbformat_minor": 5
}
